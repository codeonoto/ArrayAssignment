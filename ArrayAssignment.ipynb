{
 "cells": [
  {
   "cell_type": "markdown",
   "id": "06d6d211-f7f2-489d-9703-4b761a478bd0",
   "metadata": {},
   "source": [
    "1. Given an array, check if it contains any duplicates or not.\r\n",
    "arr = [1, 2, 4, 2, 5, 9]\r\n",
    "Output = True"
   ]
  },
  {
   "cell_type": "code",
   "execution_count": 1,
   "id": "822cdf0e-7f08-4bf1-9d2e-253bfbc2df2c",
   "metadata": {},
   "outputs": [
    {
     "name": "stdout",
     "output_type": "stream",
     "text": [
      "True\n"
     ]
    }
   ],
   "source": [
    "def DupArr(arr):\n",
    "    n = len(arr)\n",
    "    key = 0\n",
    "    for i in range(n - 1):\n",
    "        key = arr[i]\n",
    "        for j in range(i + 1, n):\n",
    "            if arr[j] == key:\n",
    "                return True\n",
    "    return -1\n",
    "\n",
    "arr = [1,2,4,2,5,9,]\n",
    "result = DupArr(arr)\n",
    "print(result)\n"
   ]
  },
  {
   "cell_type": "markdown",
   "id": "407a66f7-daa3-48a3-98b9-85cace6a749d",
   "metadata": {},
   "source": [
    "2. Given an array and an integer k, rotate the array to the right by k steps.\r\n",
    "arr = [1, 2, 3, 4, 5, 6, 7] k = 3\r\n",
    "Output = [5, 6, 7, 1, 2, 3, 4]"
   ]
  },
  {
   "cell_type": "code",
   "execution_count": 2,
   "id": "421139c3-e04e-4d1b-91d7-1e095401cab4",
   "metadata": {},
   "outputs": [
    {
     "name": "stdout",
     "output_type": "stream",
     "text": [
      "[5, 6, 7, 1, 2, 3, 4]\n"
     ]
    }
   ],
   "source": [
    "def RotateArray(arr, k):\n",
    "    n = len(arr)\n",
    "    k = k % n\n",
    "    \n",
    "    RotateArray = arr[-k:] + arr[:-k]\n",
    "    \n",
    "    return RotateArray\n",
    "\n",
    "\n",
    "k = 3\n",
    "arr = [1, 2, 3, 4, 5, 6, 7]\n",
    "result = RotateArray(arr, k)\n",
    "print(result)\n"
   ]
  },
  {
   "cell_type": "markdown",
   "id": "160c6554-16ec-432b-9152-6f6e0ea14b1f",
   "metadata": {},
   "source": [
    "3. Reverse the given array in-place, means without using any extra data structure.\r\n",
    "arr = [2, 4, 5, 7, 9, 12]\r\n",
    "Output = [12, 9, 7, 5, 4, 2]"
   ]
  },
  {
   "cell_type": "code",
   "execution_count": 6,
   "id": "9ff6af77-aa42-4284-8504-51b25adb031e",
   "metadata": {},
   "outputs": [
    {
     "name": "stdout",
     "output_type": "stream",
     "text": [
      "[12, 9, 7, 5, 4, 2]\n"
     ]
    }
   ],
   "source": [
    "def SwapArr(arr):\n",
    "    n = len(arr)\n",
    "    for i in range(n // 2):\n",
    "        arr[i], arr[n - i - 1] = arr[n - i - 1], arr[i]\n",
    "    return arr\n",
    "\n",
    "arr = [2, 4, 5, 7, 9, 12]\n",
    "result = SwapArr(arr)\n",
    "print(result)\n"
   ]
  },
  {
   "cell_type": "markdown",
   "id": "fdb0eb34-10b4-431b-b768-3634d1aa3867",
   "metadata": {},
   "source": [
    "4. Given an array of integers, find the maximum element in an array\n",
    "arr = [10, 5, 20, 8, 15]\n",
    "Output = 20"
   ]
  },
  {
   "cell_type": "code",
   "execution_count": 7,
   "id": "6d3911c6-e004-41a1-9c20-d6e47731d333",
   "metadata": {},
   "outputs": [
    {
     "name": "stdout",
     "output_type": "stream",
     "text": [
      "20\n"
     ]
    }
   ],
   "source": [
    "def MaxArrValue(arr):\n",
    "    n = len(arr)\n",
    "    maxVal = arr[0]\n",
    "    for i in range(n-1):\n",
    "        if maxVal <  arr[i]:\n",
    "            maxVal = arr[i]\n",
    "    return maxVal\n",
    "\n",
    "\n",
    "arr = [10, 5, 20, 8, 15]\n",
    "result = MaxArrValue(arr)\n",
    "print(result)"
   ]
  },
  {
   "cell_type": "markdown",
   "id": "35c8930c-3702-4fae-8ba9-bd25b704e558",
   "metadata": {},
   "source": [
    "5. Given a sorted array, remove the duplicate element without using any extra data structure.\r\n",
    "arr = [1, 1, 2, 2, 2, 3, 3, 4, 4, 4, 5, 5]\r\n",
    "Output = [1, 2, 3, 4, 5]"
   ]
  },
  {
   "cell_type": "code",
   "execution_count": 8,
   "id": "cd6e664b-c94d-49bf-a628-ae251a75771a",
   "metadata": {},
   "outputs": [
    {
     "name": "stdout",
     "output_type": "stream",
     "text": [
      "[1, 2, 3, 4, 5]\n"
     ]
    }
   ],
   "source": [
    "def removeDuplicates(arr):\n",
    "    n = len(arr)\n",
    "    j = 1  \n",
    "    for i in range(1, n):\n",
    "        if arr[i] != arr[i - 1]:\n",
    "            arr[j] = arr[i]\n",
    "            j += 1\n",
    "\n",
    "    return arr[:j] \n",
    "\n",
    "arr = [1, 1, 2, 2, 2, 3, 3, 4, 4, 4, 5, 5]\n",
    "result = removeDuplicates(arr)\n",
    "print(result)\n"
   ]
  }
 ],
 "metadata": {
  "kernelspec": {
   "display_name": "Python 3 (ipykernel)",
   "language": "python",
   "name": "python3"
  },
  "language_info": {
   "codemirror_mode": {
    "name": "ipython",
    "version": 3
   },
   "file_extension": ".py",
   "mimetype": "text/x-python",
   "name": "python",
   "nbconvert_exporter": "python",
   "pygments_lexer": "ipython3",
   "version": "3.12.2"
  }
 },
 "nbformat": 4,
 "nbformat_minor": 5
}
